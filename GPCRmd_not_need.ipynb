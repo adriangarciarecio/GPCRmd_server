{
 "cells": [
  {
   "attachments": {},
   "cell_type": "markdown",
   "metadata": {},
   "source": [
    "#### Tools - Python (NOT NEED IT!!!)<a class=\"anchor\" id=\"toopy\"></a>"
   ]
  },
  {
   "attachments": {},
   "cell_type": "markdown",
   "metadata": {},
   "source": [
    "Normally, installers of Linux Ubuntu Servers 20.04 install the version of Python 3.8. To check: \n",
    "\n",
    "- <code> python3 -V </code> \n",
    "\n",
    "If you see Python 3.8.10 or some similar, is recommended to upgrade to Python 3.9 because they include BIG improvements that boost performance without requiring any changes on the existing code. To do that: \n",
    "\n",
    "- <code> sudo apt install python3.9 -y </code>\n",
    "\n",
    "This will install the version 3.9.5. Now, we need to change the default python 3.8 to 3.9 when we use the command: \n",
    "\n",
    "- <code> python3 </code>\n",
    "\n",
    "Also, you can call the new python with:\n",
    "\n",
    "- <code> python3.9 </code>\n",
    "\n",
    "How we are not going to use the python 3.8, we are going to remove it & create a symlink (shortcut) with the 3.9 version:\n",
    "\n",
    "- <code> sudo rm /usr/bin/python3 </code>\n",
    "- <code> sudo ln -s python3.9 /usr/bin/python3 </code>\n",
    "- <code> python3 -V </code>\n",
    "\n",
    "Congrats!"
   ]
  },
  {
   "attachments": {},
   "cell_type": "markdown",
   "metadata": {},
   "source": [
    "[Return to table of contents](#table)"
   ]
  },
  {
   "attachments": {},
   "cell_type": "markdown",
   "metadata": {},
   "source": [
    "- <code> sudo vi /var/www/html/test_script.py</code>\n",
    "\n",
    "Add the next lines: \n",
    "\n",
    "def application(environ, start_response):  \n",
    "    status = \"200 OK\"   \n",
    "    html = \"\\n\" \\  \n",
    "            \"\\n\" \\  \n",
    "            \" mod_wsgi is workin\\n\" \\  \n",
    "            \"\\n\" \\  \n",
    "            \"\\n\"  \n",
    "    response_header =[(\"Content-type\", \"text/html\")]   \n",
    "    start_response(status, response_header)  \n",
    "    return[html]  \n",
    "\n",
    "Save & close. \n",
    "\n",
    "Create the next file: \n",
    "\n",
    "- <code> sudo vi /etc/apache2/conf-available/wsgi.conf</code>\n",
    "\n",
    "Add: \n",
    "\n",
    "WSGIScriptAlias /test_wsgi /var/www/html/test_script.py\n",
    "\n",
    "Save & close. "
   ]
  },
  {
   "cell_type": "markdown",
   "metadata": {},
   "source": []
  }
 ],
 "metadata": {
  "kernelspec": {
   "display_name": "Python 3",
   "language": "python",
   "name": "python3"
  },
  "language_info": {
   "name": "python",
   "version": "3.8.10 (default, Nov 14 2022, 12:59:47) \n[GCC 9.4.0]"
  },
  "orig_nbformat": 4,
  "vscode": {
   "interpreter": {
    "hash": "916dbcbb3f70747c44a77c7bcd40155683ae19c65e1c03b4aa3499c5328201f1"
   }
  }
 },
 "nbformat": 4,
 "nbformat_minor": 2
}
