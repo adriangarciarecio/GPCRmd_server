{
 "cells": [
  {
   "attachments": {},
   "cell_type": "markdown",
   "metadata": {},
   "source": [
    "# GPCRmd development server guide\n",
    "*Started by Adrián García Recio*  |  ***Last updated***: *03/01/2023*  | ***Contact:*** *agarcia15@imim.es*  \n",
    "*Collaborators: Oriol Canal*"
   ]
  },
  {
   "attachments": {},
   "cell_type": "markdown",
   "metadata": {},
   "source": [
    "## Table of Contents <a class=\"anchor\" id=\"table\"></a>\n",
    "* [Information](#info)\n",
    "* [VirtualBox Installation](#vbinst)\n",
    "    * [VirtualBox - Installer & ISO file](#vbinsiso)\n",
    "    * [VirtualBox - Virtual Machine creation](#vbvmcre)\n",
    "    * [VirtualBox - Virtual Machine configuration](#vbvmconf)\n",
    "        * [Extra - Share folders](#extrashare)\n",
    "* [Ubuntu Automatic Installation](#usinstauto)\n",
    "* [Ubuntu ManualInstallation](#usinst)\n",
    "    * [Ubuntu Server - Installation](#ubuinst)\n",
    "    * [Ubuntu Desktop - Installation](#ubudesk)\n",
    "    * [Ubuntu - Tools & packages ](#ubutoo)\n",
    "        * [Tools - Firewall](#toofire)\n",
    "        * [Tools - Apache2](#tooapa2)\n",
    "            * [Extra - Systemctl](#extrasys)\n",
    "        * [Tools - Django](#toodja)"
   ]
  },
  {
   "attachments": {},
   "cell_type": "markdown",
   "metadata": {},
   "source": [
    "## Information <a class=\"anchor\" id=\"info\"></a> "
   ]
  },
  {
   "attachments": {},
   "cell_type": "markdown",
   "metadata": {},
   "source": [
    "#### Main\n",
    "- **Operating system (OS):** Linux Ubuntu Server 20.04.5 (LTS) (server) / Linux Ubuntu Desktop 20.04.5 (LTS) (local)\n",
    "- **Web server system:** Apache 2.4.41 \n",
    "- **Web framework:** Django 2.2.12 \n",
    "\n",
    "#### Tools\n",
    "- **Conda:** Miniconda  \n",
    "- **PhpMyAdmin:**  \n",
    "- **Python:** 3.9.5   "
   ]
  },
  {
   "attachments": {},
   "cell_type": "markdown",
   "metadata": {},
   "source": [
    "[Return to table of contents](#table)"
   ]
  },
  {
   "attachments": {},
   "cell_type": "markdown",
   "metadata": {},
   "source": [
    "## Virtual Box Installation <a class=\"anchor\" id=\"vbinst\"></a>"
   ]
  },
  {
   "attachments": {},
   "cell_type": "markdown",
   "metadata": {},
   "source": [
    "### VirtualBox - Installer & ISO file <a class=\"anchor\" id=\"vbinsiso\"></a>"
   ]
  },
  {
   "attachments": {},
   "cell_type": "markdown",
   "metadata": {},
   "source": [
    "1. First, you need to download the Ubuntu server 20.04 ISO file from Ubuntu web.   \n",
    "    **Link**: https://ubuntu.com/download/server  / https://releases.ubuntu.com/20.04.5/?_ga=2.84197785.1804303255.1672738546-1858733250.1672738546\n",
    "    **Namefile**: ubuntu-20.04.5-live-server-amd64.iso  / ubuntu-20.04.5-live-desktop-amd64.iso  \n",
    "    *Note: Be sure you are downloading the version 20.04 of 64bits (amd64).*   \n",
    "\n",
    "2. Next, in case that you do not have the Oracle Virtual Machine VirtualBox Manager, download and install the program.   \n",
    "    **Link**: https://www.virtualbox.org/wiki/Downloads    \n",
    "    *Note: Remember to choose the correct version corresponding to your computer OS (Windows, MacOS, Linux,...).*   \n",
    "    \n",
    "3. Follow the next section to install correctly the VirtualBox (VB).  "
   ]
  },
  {
   "attachments": {},
   "cell_type": "markdown",
   "metadata": {},
   "source": [
    "[Return to table of contents](#table)"
   ]
  },
  {
   "attachments": {},
   "cell_type": "markdown",
   "metadata": {},
   "source": [
    "### VirtualBox - Virtual Machine creation <a class=\"anchor\" id=\"vbvmcre\"></a>"
   ]
  },
  {
   "attachments": {},
   "cell_type": "markdown",
   "metadata": {},
   "source": [
    "This is the main window of Oracle VM VirtualBox Manager. "
   ]
  },
  {
   "attachments": {},
   "cell_type": "markdown",
   "metadata": {},
   "source": [
    "<img src=\"./img/VB_main_window.png\">"
   ]
  },
  {
   "attachments": {},
   "cell_type": "markdown",
   "metadata": {},
   "source": [
    "As you can apreciate, the main window is divided in three parts:   \n",
    "- **Top bar**: menus & the buttons to create, configure and start a Virtual Machine (VM).  \n",
    "- **Left window:** list of all the machines that you created.  \n",
    "- **Right window:** show specifications of the machine selected.   "
   ]
  },
  {
   "attachments": {},
   "cell_type": "markdown",
   "metadata": {},
   "source": [
    "To create a new machine, you must to click on the top bar button **\"New\"**. Choose a name. Do not worry about it, is only for you to differentiate it from the others machines. And select the type & version of the OS of the VM. "
   ]
  },
  {
   "attachments": {},
   "cell_type": "markdown",
   "metadata": {},
   "source": [
    "<img src=\"./img/VB_new.png\">"
   ]
  },
  {
   "attachments": {},
   "cell_type": "markdown",
   "metadata": {},
   "source": [
    "<p style=\"color:orange; font-style: italic;\"> WARNING: Be sure that the \"Type\" & \"Version\" that you choose correponds to the ISO file version. </p>"
   ]
  },
  {
   "attachments": {},
   "cell_type": "markdown",
   "metadata": {},
   "source": [
    "Click on \"Next\" & move to the next step. "
   ]
  },
  {
   "attachments": {},
   "cell_type": "markdown",
   "metadata": {},
   "source": [
    "<img src=\"./img/VB_RAM.png\">"
   ]
  },
  {
   "attachments": {},
   "cell_type": "markdown",
   "metadata": {},
   "source": [
    "Now, you must to choose the memory size that the VM will use. Normally, in case that you have enough RAM, I recommend to select above 8000 of MB. *Note: You can modify this value later in the configuration*"
   ]
  },
  {
   "attachments": {},
   "cell_type": "markdown",
   "metadata": {},
   "source": [
    "Click on \"Next\". "
   ]
  },
  {
   "attachments": {},
   "cell_type": "markdown",
   "metadata": {},
   "source": [
    "<img src=\"./img/VB_HD.png\">"
   ]
  },
  {
   "attachments": {},
   "cell_type": "markdown",
   "metadata": {},
   "source": [
    "Here, we left the default option. Click on \"Create\". "
   ]
  },
  {
   "attachments": {},
   "cell_type": "markdown",
   "metadata": {},
   "source": [
    "<img src=\"./img/VB_HD_ft.png\">"
   ]
  },
  {
   "attachments": {},
   "cell_type": "markdown",
   "metadata": {},
   "source": [
    "Same as the step before, let the default VDI option. Click \"Next\". "
   ]
  },
  {
   "attachments": {},
   "cell_type": "markdown",
   "metadata": {},
   "source": [
    "<img src=\"./img/VB_storage.png\">"
   ]
  },
  {
   "attachments": {},
   "cell_type": "markdown",
   "metadata": {},
   "source": [
    "This option depends on the space of your computer. If you want that VM dynamically gets the space while the files into the machine grows or get the maximum space fixed from the start. I recommend the fixed size option because the machine is faster to use but take longer to create. At the end, the selection in this step should not affect the user experience use of the VM. "
   ]
  },
  {
   "attachments": {},
   "cell_type": "markdown",
   "metadata": {},
   "source": [
    "Click on \"Next\". "
   ]
  },
  {
   "attachments": {},
   "cell_type": "markdown",
   "metadata": {},
   "source": [
    "<img src=\"./img/VB_HD_size.png\">"
   ]
  },
  {
   "attachments": {},
   "cell_type": "markdown",
   "metadata": {},
   "source": [
    "Related with the previous step, here you must to choose the hard disk space available for the VM. If you have enough space on you computer, I recommend to select around 150GB. You can also give more space in case that you will need it or less but it needs **a minimum of 50GB**. "
   ]
  },
  {
   "attachments": {},
   "cell_type": "markdown",
   "metadata": {},
   "source": [
    "<p style=\"color:orange; font-style: italic;\"> WARNING: Be sure that you select the correct size of the hard disk because this option can not be modified later.</p>"
   ]
  },
  {
   "attachments": {},
   "cell_type": "markdown",
   "metadata": {},
   "source": [
    "Click on \"Create\"."
   ]
  },
  {
   "attachments": {},
   "cell_type": "markdown",
   "metadata": {},
   "source": [
    "<img src=\"./img/VB_list.png\">"
   ]
  },
  {
   "attachments": {},
   "cell_type": "markdown",
   "metadata": {},
   "source": [
    "Now, you have the base of the VM. The next step is to configure the machine & use the ISO file dowloaded, previously."
   ]
  },
  {
   "attachments": {},
   "cell_type": "markdown",
   "metadata": {},
   "source": [
    "[Return to table of contents](#table)"
   ]
  },
  {
   "attachments": {},
   "cell_type": "markdown",
   "metadata": {},
   "source": [
    "### VirtualBox - Virtual Machine configuration <a class=\"anchor\" id=\"vbvmconf\"></a>"
   ]
  },
  {
   "attachments": {},
   "cell_type": "markdown",
   "metadata": {},
   "source": [
    "The next windows are related with the button of the top bar of the VirtualBox program, named \"Settings\". "
   ]
  },
  {
   "attachments": {},
   "cell_type": "markdown",
   "metadata": {},
   "source": [
    "<img src=\"./img/VB_config.png\">"
   ]
  },
  {
   "attachments": {},
   "cell_type": "markdown",
   "metadata": {},
   "source": [
    "Here, you can configure the machine & change parameters depending on the needs of each user."
   ]
  },
  {
   "attachments": {},
   "cell_type": "markdown",
   "metadata": {},
   "source": [
    "Now, we are going to use the ISO file downloaded in the first part of this guide. Select the \"Storage\" option in the list of the left & new options will appear. "
   ]
  },
  {
   "attachments": {},
   "cell_type": "markdown",
   "metadata": {},
   "source": [
    "<img src=\"./img/VB_config_sto.png\">"
   ]
  },
  {
   "attachments": {},
   "cell_type": "markdown",
   "metadata": {},
   "source": [
    "In this part, we are going add the ISO file from our local files. First, you need to click on the disk next to the pharse \"Controller: IDE\". You will see a new window like the showed in the next image: "
   ]
  },
  {
   "attachments": {},
   "cell_type": "markdown",
   "metadata": {},
   "source": [
    "<img src=\"./img/VB_config_sele.png\">"
   ]
  },
  {
   "attachments": {},
   "cell_type": "markdown",
   "metadata": {},
   "source": [
    "Click on \"Add\" button on the top bar & select the ISO file from your computer files. Once you select the ISO file, you must to choose the ISO, as the image above shows, & click on \"Choose\". "
   ]
  },
  {
   "attachments": {},
   "cell_type": "markdown",
   "metadata": {},
   "source": [
    "<img src=\"./img/VB_config_iso_sele.png\">"
   ]
  },
  {
   "attachments": {},
   "cell_type": "markdown",
   "metadata": {},
   "source": [
    "Click on \"OK\". Now, you have the VM prepared to start with the installation of the OS in the VM. "
   ]
  },
  {
   "attachments": {},
   "cell_type": "markdown",
   "metadata": {},
   "source": [
    "<img src=\"./img/VB_vmcreated.png\">"
   ]
  },
  {
   "attachments": {},
   "cell_type": "markdown",
   "metadata": {},
   "source": [
    "[Return to table of contents](#table)"
   ]
  },
  {
   "attachments": {},
   "cell_type": "markdown",
   "metadata": {},
   "source": [
    "#### Extra - Share folders <a class=\"anchor\" id=\"extrashare\"></a>"
   ]
  },
  {
   "attachments": {},
   "cell_type": "markdown",
   "metadata": {},
   "source": [
    "In case that you have the need to share folders from your main computer to the VM this part is for you.  "
   ]
  },
  {
   "attachments": {},
   "cell_type": "markdown",
   "metadata": {},
   "source": [
    "<img src=\"./img/VB_config_share.png\">"
   ]
  },
  {
   "attachments": {},
   "cell_type": "markdown",
   "metadata": {},
   "source": [
    "This time, you need to move to the \"Shared Folders\" option. Click on the directory at the top right of the window to add a folder to share."
   ]
  },
  {
   "attachments": {},
   "cell_type": "markdown",
   "metadata": {},
   "source": [
    "<img src=\"./img/VB_config_share_add.png\">"
   ]
  },
  {
   "attachments": {},
   "cell_type": "markdown",
   "metadata": {},
   "source": [
    "Select the folder path from you computer on \"Others\" option."
   ]
  },
  {
   "attachments": {},
   "cell_type": "markdown",
   "metadata": {},
   "source": [
    "Once you select the folder, automatically the program adds the name as \"Folder Name\". *Note: You can change the name but is not necessary.* "
   ]
  },
  {
   "attachments": {},
   "cell_type": "markdown",
   "metadata": {},
   "source": [
    "<img src=\"./img/VB_config_share_ok.png\">"
   ]
  },
  {
   "attachments": {},
   "cell_type": "markdown",
   "metadata": {},
   "source": [
    "Let the others parameters empty & click on \"OK\"."
   ]
  },
  {
   "attachments": {},
   "cell_type": "markdown",
   "metadata": {},
   "source": [
    "<img src=\"./img/VB_config_share_end.png\">"
   ]
  },
  {
   "attachments": {},
   "cell_type": "markdown",
   "metadata": {},
   "source": [
    "Now, when you start again the machine you will see in the \"/home\" path the shared folder. In this case will be \"/home/agarcia/shared\". "
   ]
  },
  {
   "attachments": {},
   "cell_type": "markdown",
   "metadata": {},
   "source": [
    "[Return to table of contents](#table)"
   ]
  },
  {
   "attachments": {},
   "cell_type": "markdown",
   "metadata": {},
   "source": [
    "## Ubuntu Automatic Installation <a class=\"anchor\" id=\"usinstauto\"></a>"
   ]
  },
  {
   "attachments": {},
   "cell_type": "markdown",
   "metadata": {},
   "source": [
    "<code> sudo apt install git -y </code>"
   ]
  },
  {
   "attachments": {},
   "cell_type": "markdown",
   "metadata": {},
   "source": [
    "[Return to table of contents](#table)"
   ]
  },
  {
   "attachments": {},
   "cell_type": "markdown",
   "metadata": {},
   "source": [
    "## Ubuntu Manual Installation <a class=\"anchor\" id=\"usinst\"></a>"
   ]
  },
  {
   "attachments": {},
   "cell_type": "markdown",
   "metadata": {},
   "source": [
    "### Ubuntu Server - Installation <a class=\"anchor\" id=\"ubuinst\"></a>"
   ]
  },
  {
   "attachments": {},
   "cell_type": "markdown",
   "metadata": {},
   "source": [
    "In this part, we are going to do the installation of the Ubuntu Server. To start the process, select the machine & click on the \"Start\" button on the top bar. "
   ]
  },
  {
   "attachments": {},
   "cell_type": "markdown",
   "metadata": {},
   "source": [
    "<img src=\"./img/VB_vmcreated.png\">"
   ]
  },
  {
   "attachments": {},
   "cell_type": "markdown",
   "metadata": {},
   "source": [
    "You must wait some minutes to let the machine check all the files of the ISO to proceed to the installation. Next, you will see the language selection: "
   ]
  },
  {
   "attachments": {},
   "cell_type": "markdown",
   "metadata": {},
   "source": [
    "<img src=\"./img/Ubu_server_start.png\">"
   ]
  },
  {
   "attachments": {},
   "cell_type": "markdown",
   "metadata": {},
   "source": [
    "Move with arrows UP or DOWN & press ENTER to select the main language of the server. "
   ]
  },
  {
   "attachments": {},
   "cell_type": "markdown",
   "metadata": {},
   "source": [
    "<img src=\"./img/Ubu_server_update.png\">"
   ]
  },
  {
   "attachments": {},
   "cell_type": "markdown",
   "metadata": {},
   "source": [
    "In case that the installer have some \"updates\", the installer will ask you to update to the new one. I always recommend to do this update. To do that select the first option."
   ]
  },
  {
   "attachments": {},
   "cell_type": "markdown",
   "metadata": {},
   "source": [
    "You will see that the machine will download the new updates & after will show the keyboard configuration. Here, you must to take a look into your keyboard. Depending of the distribution of the keys you must to select one layout or another. \n",
    "*Note: Use the next link to check what keyboard do you have: https://en.wikipedia.org/wiki/List_of_QWERTY_keyboard_language_variants or use the \"Identify keyboard\" option.* "
   ]
  },
  {
   "attachments": {},
   "cell_type": "markdown",
   "metadata": {},
   "source": [
    "<img src=\"./img/Ubu_keyboard.png\">"
   ]
  },
  {
   "attachments": {},
   "cell_type": "markdown",
   "metadata": {},
   "source": [
    "In the next steps we are going to let the default options:"
   ]
  },
  {
   "attachments": {},
   "cell_type": "markdown",
   "metadata": {},
   "source": [
    "<img src=\"./img/Ubu_type_install.png\">"
   ]
  },
  {
   "attachments": {},
   "cell_type": "markdown",
   "metadata": {},
   "source": [
    "<img src=\"./img/Ubu_network.png\">"
   ]
  },
  {
   "attachments": {},
   "cell_type": "markdown",
   "metadata": {},
   "source": [
    "<img src=\"./img/Ubu_proxy.png\">"
   ]
  },
  {
   "attachments": {},
   "cell_type": "markdown",
   "metadata": {},
   "source": [
    "<img src=\"./img/Ubu_mirror.png\">"
   ]
  },
  {
   "attachments": {},
   "cell_type": "markdown",
   "metadata": {},
   "source": [
    "<img src=\"./img/Ubu_storage.png\">"
   ]
  },
  {
   "attachments": {},
   "cell_type": "markdown",
   "metadata": {},
   "source": [
    "Next, you can see a summary of the file system:"
   ]
  },
  {
   "attachments": {},
   "cell_type": "markdown",
   "metadata": {},
   "source": [
    "<img src=\"./img/Ubu_storage_info.png\">"
   ]
  },
  {
   "attachments": {},
   "cell_type": "markdown",
   "metadata": {},
   "source": [
    "The \"destructive\" step could be \"dangerous\" but do not panic, you main computer will not be affected. This message becomes from the installer & if you are using a VM, only affects the VM. In this case, the VM is empty & we do not loss data. "
   ]
  },
  {
   "attachments": {},
   "cell_type": "markdown",
   "metadata": {},
   "source": [
    "<img src=\"./img/Ubu_destructive.png\">"
   ]
  },
  {
   "attachments": {},
   "cell_type": "markdown",
   "metadata": {},
   "source": [
    "Here, we need to full the form with the information that the installer ask. "
   ]
  },
  {
   "attachments": {},
   "cell_type": "markdown",
   "metadata": {},
   "source": [
    "<img src=\"./img/Ubu_name.png\">"
   ]
  },
  {
   "attachments": {},
   "cell_type": "markdown",
   "metadata": {},
   "source": [
    "<p style=\"color:orange; font-style: italic;\"> WARNING: Save the username & password somewhere in case that you will forget them. This user will be the root superuser. </p>"
   ]
  },
  {
   "attachments": {},
   "cell_type": "markdown",
   "metadata": {},
   "source": [
    "Next step is the SSH Setup. The install of OpenSSH is not necessary because normally you will use the VM on local not in remote. In case that you wanna acces on remote you must to check the option to install the package. "
   ]
  },
  {
   "attachments": {},
   "cell_type": "markdown",
   "metadata": {},
   "source": [
    "<img src=\"./img/Ubu_ssh.png\">"
   ]
  },
  {
   "attachments": {},
   "cell_type": "markdown",
   "metadata": {},
   "source": [
    "Same as the previous step is not necessary each of these snaps. In case that you wanna include one or some of them remember to check them. "
   ]
  },
  {
   "attachments": {},
   "cell_type": "markdown",
   "metadata": {},
   "source": [
    "<img src=\"./img/Ubu_snaps.png\">"
   ]
  },
  {
   "attachments": {},
   "cell_type": "markdown",
   "metadata": {},
   "source": [
    "From here the installer will start to install the system ubuntu you must to wait some minutes. *Note: I recommend to check the process every 5 minutes to see if all is okey.* "
   ]
  },
  {
   "attachments": {},
   "cell_type": "markdown",
   "metadata": {},
   "source": [
    "<img src=\"./img/Ubu_installing.png\">"
   ]
  },
  {
   "attachments": {},
   "cell_type": "markdown",
   "metadata": {},
   "source": [
    "Once the installation is complete you must to Reboot the VM with the option showed below:"
   ]
  },
  {
   "attachments": {},
   "cell_type": "markdown",
   "metadata": {},
   "source": [
    "<img src=\"./img/Ubu_install_complete.png\">"
   ]
  },
  {
   "attachments": {},
   "cell_type": "markdown",
   "metadata": {},
   "source": [
    "In the reboot you will see this message of \"FAILED\". Do not worry, press ENTER. You do not need to remove anything, remember that ISO file is not physical is an image. Next time that you will run the VM this message should not appear.  "
   ]
  },
  {
   "attachments": {},
   "cell_type": "markdown",
   "metadata": {},
   "source": [
    "<img src=\"./img/Ubu_restart.png\">"
   ]
  },
  {
   "attachments": {},
   "cell_type": "markdown",
   "metadata": {},
   "source": [
    "The first thing to start the server is login with the root user (remember that I warn to save this information)."
   ]
  },
  {
   "attachments": {},
   "cell_type": "markdown",
   "metadata": {},
   "source": [
    "<img src=\"./img/Ubu_login.png\">"
   ]
  },
  {
   "attachments": {},
   "cell_type": "markdown",
   "metadata": {},
   "source": [
    "Once you write the credencials, you are in! Congrats!"
   ]
  },
  {
   "attachments": {},
   "cell_type": "markdown",
   "metadata": {},
   "source": [
    "<img src=\"./img/Ubu_home.png\">"
   ]
  },
  {
   "attachments": {},
   "cell_type": "markdown",
   "metadata": {},
   "source": [
    "[Return to table of contents](#table)"
   ]
  },
  {
   "attachments": {},
   "cell_type": "markdown",
   "metadata": {},
   "source": [
    "### Ubuntu Desktop - Installation <a class=\"anchor\" id=\"ubudesk\"></a>"
   ]
  },
  {
   "attachments": {},
   "cell_type": "markdown",
   "metadata": {},
   "source": [
    "The same process as Ubuntu Server, but with interface. Also, some steps are not need it for Desktop version."
   ]
  },
  {
   "attachments": {},
   "cell_type": "markdown",
   "metadata": {},
   "source": [
    "[Return to table of contents](#table)"
   ]
  },
  {
   "attachments": {},
   "cell_type": "markdown",
   "metadata": {},
   "source": [
    "### Ubuntu - Tools & packages <a class=\"anchor\" id=\"ubutoo\"></a>"
   ]
  },
  {
   "attachments": {},
   "cell_type": "markdown",
   "metadata": {},
   "source": [
    "This part will be oriented on command line (not with images). The idea is to copy them into the terminal of the VM & run them. Before to install anything always check that your system is updated & upgraded to the last version. Use: \n",
    "\n",
    "- <code> sudo apt update -y </code>\n",
    "- <code> sudo apt upgrade -y </code>\n",
    "\n",
    "*Note: the -y mode is to agree the changes. If you have problems with this mode remove the statement.*  "
   ]
  },
  {
   "attachments": {},
   "cell_type": "markdown",
   "metadata": {},
   "source": [
    "#### Tools - Firewall <a class=\"anchor\" id=\"tofire\"></a>"
   ]
  },
  {
   "attachments": {},
   "cell_type": "markdown",
   "metadata": {},
   "source": [
    "The ufw tool is our first installation. This tool is to enable the firewall, like a security door to protect the server. Command:\n",
    "\n",
    "- <code> sudo apt install ufw -y</code>\n",
    "\n",
    "This tool works with \"rules\". We are going to add them when they will be need it, on each corresponding section. "
   ]
  },
  {
   "attachments": {},
   "cell_type": "markdown",
   "metadata": {},
   "source": [
    "[Return to table of contents](#table)"
   ]
  },
  {
   "attachments": {},
   "cell_type": "markdown",
   "metadata": {},
   "source": [
    "#### Tools - Apache2 <a class=\"anchor\" id=\"tooapa2\"></a>"
   ]
  },
  {
   "attachments": {},
   "cell_type": "markdown",
   "metadata": {},
   "source": [
    "Now, is time to install the web server. In our case, we selected Apache. The commands to install the tool is:\n",
    "- <code> sudo apt install apache2 -y </code>\n",
    "\n",
    "Next, we need to add rules to the firewall. To see what applications are available for the firewall use: \n",
    "- <code> sudo ufw app list </code>\n",
    "\n",
    "For Apache we have 3 options:  \n",
    "- **Apache**: open ONLY port 80 (normal web traffic not cyphered).  \n",
    "- **Apache Full**: open port 80 & 443 (cyphered traffic TLS/SSL).  \n",
    "- **Apache Secure**: open ONLY port 443.  \n",
    "\n",
    "For this example case, we are going to open only the port 80:\n",
    "- <code> sudo ufw allow 'Apache' </code>\n",
    "\n",
    "Check the status of the firewall: \n",
    "- <code> sudo ufw status </code>\n",
    "- <code> sudo ufw enable </code>\n",
    "\n",
    "To enable the application:\n",
    "- <code> sudo systemctl start apache2 </code>\n",
    "\n",
    "And to check the state: \n",
    "- <code> sudo systemctl status apache2 </code>\n",
    "\n",
    "To check the functionallity we are going to acces to the web. First, we need the hostname or IP: \n",
    "- <code> hostname -I </code>  \n",
    "\n",
    "And next:  \n",
    "- <code> sudo apt install curl </code>\n",
    "- <code> curl http://127.0.0.2 </code>  \n",
    "\n",
    "This will return html code related with apache default home. Congrats! "
   ]
  },
  {
   "attachments": {},
   "cell_type": "markdown",
   "metadata": {},
   "source": [
    "##### Extra - Systemctl <a class=\"anchor\" id=\"extrasys\"></a>"
   ]
  },
  {
   "attachments": {},
   "cell_type": "markdown",
   "metadata": {},
   "source": [
    "Here you can found a list of the most used commands about systemctl to manage applications:\n",
    "- <code> sudo systemctl status [appname] </code>  \n",
    "- <code> sudo systemctl start [appname] </code>  \n",
    "- <code> sudo systemctl stop [appname] </code>  \n",
    "- <code> sudo systemctl restart [appname] </code>  \n",
    "- <code> sudo systemctl reload [appname] </code>  \n",
    "- <code> sudo systemctl enable [appname] </code>  \n",
    "- <code> sudo systemctl disable [appname] </code>  \n"
   ]
  },
  {
   "attachments": {},
   "cell_type": "markdown",
   "metadata": {},
   "source": [
    "[Return to table of contents](#table)"
   ]
  },
  {
   "attachments": {},
   "cell_type": "markdown",
   "metadata": {},
   "source": [
    "#### Tools - Miniconda <a class=\"anchor\" id=\"toodja\"></a>"
   ]
  },
  {
   "attachments": {},
   "cell_type": "markdown",
   "metadata": {},
   "source": [
    "- <code> sudo bash Miniconda3-py39_22.11.1-1-Linux-x86_64.sh</code>"
   ]
  },
  {
   "attachments": {},
   "cell_type": "markdown",
   "metadata": {},
   "source": [
    "#### Tools - Django <a class=\"anchor\" id=\"toodja\"></a>"
   ]
  },
  {
   "attachments": {},
   "cell_type": "markdown",
   "metadata": {},
   "source": [
    "Before installing Django you need to do the step \"Tool - Python\" first. There are some ways to install Django, the most easier is: \n",
    "\n",
    "- <code> sudo apt install python3-django -y </code>\n",
    "\n",
    "or, \n",
    "\n",
    "- <code> sudo apt install python3-pip -y</code>\n",
    "- <code> sudo pip install django -y</code>\n",
    "\n",
    "To check: \n",
    "\n",
    "- <code> django-admin --version </code>\n",
    "\n",
    "Congrats!"
   ]
  },
  {
   "attachments": {},
   "cell_type": "markdown",
   "metadata": {},
   "source": [
    "[Return to table of contents](#table)"
   ]
  },
  {
   "attachments": {},
   "cell_type": "markdown",
   "metadata": {},
   "source": [
    "#### Tools - PostgreSQL <a class=\"anchor\" id=\"toophpad\"></a>"
   ]
  },
  {
   "attachments": {},
   "cell_type": "markdown",
   "metadata": {},
   "source": [
    "#### Tools - PhpPgAdmin <a class=\"anchor\" id=\"toophpad\"></a>"
   ]
  },
  {
   "attachments": {},
   "cell_type": "markdown",
   "metadata": {},
   "source": [
    "- <code> sudo apt install phpmyadmin php-mbstring php-zip php-gd php-json php-curl -y</code>"
   ]
  },
  {
   "cell_type": "markdown",
   "metadata": {},
   "source": []
  }
 ],
 "metadata": {
  "kernelspec": {
   "display_name": "Python 3",
   "language": "python",
   "name": "python3"
  },
  "language_info": {
   "name": "python",
   "version": "3.8.10 (default, Nov 14 2022, 12:59:47) \n[GCC 9.4.0]"
  },
  "orig_nbformat": 4,
  "vscode": {
   "interpreter": {
    "hash": "31f2aee4e71d21fbe5cf8b01ff0e069b9275f58929596ceb00d14d90e3e16cd6"
   }
  }
 },
 "nbformat": 4,
 "nbformat_minor": 2
}
